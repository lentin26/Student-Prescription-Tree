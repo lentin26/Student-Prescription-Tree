{
 "cells": [
  {
   "cell_type": "markdown",
   "metadata": {},
   "source": [
    "# R Notebook for open source R-packages\n",
    "Susan Athey Causal Forests for CATE E[Y2 - Y1|X=x]: https://grf-labs.github.io/grf/\n",
    "\n",
    "Kallus Recursive Partitioning for Personalization using Observational Data: https://github.com/Aida-Rahmattalabi/PersonalizationTrees\n",
    "\n",
    "Bayesian Causal Forests: https://github.com/jaredsmurray/bcf \n",
    "\n",
    "Nuti Explainable Bayesian Decision Tree Algorithm: https://github.com/UBS-IB/bayesian_tree\n",
    "\n",
    "Dunnhumby Grocery store Data: https://www.dunnhumby.com/source-files/"
   ]
  },
  {
   "cell_type": "code",
   "execution_count": 31,
   "metadata": {
    "collapsed": true,
    "jupyter": {
     "outputs_hidden": true
    },
    "tags": []
   },
   "outputs": [
    {
     "name": "stderr",
     "output_type": "stream",
     "text": [
      "also installing the dependencies 'htmltools', 'rlang', 'evaluate', 'xfun', 'bslib', 'tinytex', 'scales', 'knitr', 'rmarkdown', 'broom', 'crayon', 'dtplyr', 'ggplot2', 'jsonlite', 'reprex'\n",
      "\n"
     ]
    },
    {
     "name": "stdout",
     "output_type": "stream",
     "text": [
      "\n",
      "  There are binary versions available but the source versions are later:\n",
      "           binary source needs_compilation\n",
      "htmltools 0.5.1.1  0.5.2              TRUE\n",
      "rlang      0.4.11  1.0.2              TRUE\n",
      "evaluate     0.14   0.15             FALSE\n",
      "xfun         0.22   0.30              TRUE\n",
      "bslib       0.2.4  0.3.1             FALSE\n",
      "tinytex      0.31   0.38             FALSE\n",
      "scales      1.1.1  1.2.0             FALSE\n",
      "knitr        1.33   1.39             FALSE\n",
      "rmarkdown     2.8   2.14             FALSE\n",
      "broom       0.7.6  0.8.0             FALSE\n",
      "crayon      1.4.1  1.5.1             FALSE\n",
      "dtplyr      1.1.0  1.2.1             FALSE\n",
      "ggplot2     3.3.3  3.3.6             FALSE\n",
      "jsonlite    1.7.2  1.8.0              TRUE\n",
      "reprex      2.0.0  2.0.1             FALSE\n",
      "\n",
      "  Binaries will be installed\n",
      "package 'htmltools' successfully unpacked and MD5 sums checked\n"
     ]
    },
    {
     "name": "stderr",
     "output_type": "stream",
     "text": [
      "Warning message:\n",
      "\"cannot remove prior installation of package 'htmltools'\"Warning message in file.copy(savedcopy, lib, recursive = TRUE):\n",
      "\"problem copying C:\\ProgramData\\Anaconda3\\Lib\\R\\library\\00LOCK\\htmltools\\DESCRIPTION to C:\\ProgramData\\Anaconda3\\Lib\\R\\library\\htmltools\\DESCRIPTION: Permission denied\"Warning message in file.copy(savedcopy, lib, recursive = TRUE):\n",
      "\"problem copying C:\\ProgramData\\Anaconda3\\Lib\\R\\library\\00LOCK\\htmltools\\help\\aliases.rds to C:\\ProgramData\\Anaconda3\\Lib\\R\\library\\htmltools\\help\\aliases.rds: Permission denied\"Warning message in file.copy(savedcopy, lib, recursive = TRUE):\n",
      "\"problem copying C:\\ProgramData\\Anaconda3\\Lib\\R\\library\\00LOCK\\htmltools\\help\\AnIndex to C:\\ProgramData\\Anaconda3\\Lib\\R\\library\\htmltools\\help\\AnIndex: Permission denied\"Warning message in file.copy(savedcopy, lib, recursive = TRUE):\n",
      "\"problem copying C:\\ProgramData\\Anaconda3\\Lib\\R\\library\\00LOCK\\htmltools\\help\\htmltools.rdb to C:\\ProgramData\\Anaconda3\\Lib\\R\\library\\htmltools\\help\\htmltools.rdb: Permission denied\"Warning message in file.copy(savedcopy, lib, recursive = TRUE):\n",
      "\"problem copying C:\\ProgramData\\Anaconda3\\Lib\\R\\library\\00LOCK\\htmltools\\help\\htmltools.rdx to C:\\ProgramData\\Anaconda3\\Lib\\R\\library\\htmltools\\help\\htmltools.rdx: Permission denied\"Warning message in file.copy(savedcopy, lib, recursive = TRUE):\n",
      "\"problem copying C:\\ProgramData\\Anaconda3\\Lib\\R\\library\\00LOCK\\htmltools\\help\\paths.rds to C:\\ProgramData\\Anaconda3\\Lib\\R\\library\\htmltools\\help\\paths.rds: Permission denied\"Warning message in file.copy(savedcopy, lib, recursive = TRUE):\n",
      "\"problem copying C:\\ProgramData\\Anaconda3\\Lib\\R\\library\\00LOCK\\htmltools\\html\\00Index.html to C:\\ProgramData\\Anaconda3\\Lib\\R\\library\\htmltools\\html\\00Index.html: Permission denied\"Warning message in file.copy(savedcopy, lib, recursive = TRUE):\n",
      "\"problem copying C:\\ProgramData\\Anaconda3\\Lib\\R\\library\\00LOCK\\htmltools\\html\\as.tags.html to C:\\ProgramData\\Anaconda3\\Lib\\R\\library\\htmltools\\html\\as.tags.html: Permission denied\"Warning message in file.copy(savedcopy, lib, recursive = TRUE):\n",
      "\"problem copying C:\\ProgramData\\Anaconda3\\Lib\\R\\library\\00LOCK\\htmltools\\html\\browsable.html to C:\\ProgramData\\Anaconda3\\Lib\\R\\library\\htmltools\\html\\browsable.html: Permission denied\"Warning message in file.copy(savedcopy, lib, recursive = TRUE):\n",
      "\"problem copying C:\\ProgramData\\Anaconda3\\Lib\\R\\library\\00LOCK\\htmltools\\html\\builder.html to C:\\ProgramData\\Anaconda3\\Lib\\R\\library\\htmltools\\html\\builder.html: Permission denied\"Warning message in file.copy(savedcopy, lib, recursive = TRUE):\n",
      "\"problem copying C:\\ProgramData\\Anaconda3\\Lib\\R\\library\\00LOCK\\htmltools\\html\\copyDependencyToDir.html to C:\\ProgramData\\Anaconda3\\Lib\\R\\library\\htmltools\\html\\copyDependencyToDir.html: Permission denied\"Warning message in file.copy(savedcopy, lib, recursive = TRUE):\n",
      "\"problem copying C:\\ProgramData\\Anaconda3\\Lib\\R\\library\\00LOCK\\htmltools\\html\\css.html to C:\\ProgramData\\Anaconda3\\Lib\\R\\library\\htmltools\\html\\css.html: Permission denied\"Warning message in file.copy(savedcopy, lib, recursive = TRUE):\n",
      "\"problem copying C:\\ProgramData\\Anaconda3\\Lib\\R\\library\\00LOCK\\htmltools\\html\\findDependencies.html to C:\\ProgramData\\Anaconda3\\Lib\\R\\library\\htmltools\\html\\findDependencies.html: Permission denied\"Warning message in file.copy(savedcopy, lib, recursive = TRUE):\n",
      "\"problem copying C:\\ProgramData\\Anaconda3\\Lib\\R\\library\\00LOCK\\htmltools\\html\\HTML.html to C:\\ProgramData\\Anaconda3\\Lib\\R\\library\\htmltools\\html\\HTML.html: Permission denied\"Warning message in file.copy(savedcopy, lib, recursive = TRUE):\n",
      "\"problem copying C:\\ProgramData\\Anaconda3\\Lib\\R\\library\\00LOCK\\htmltools\\html\\htmlDependencies.html to C:\\ProgramData\\Anaconda3\\Lib\\R\\library\\htmltools\\html\\htmlDependencies.html: Permission denied\"Warning message in file.copy(savedcopy, lib, recursive = TRUE):\n",
      "\"problem copying C:\\ProgramData\\Anaconda3\\Lib\\R\\library\\00LOCK\\htmltools\\html\\htmlDependency.html to C:\\ProgramData\\Anaconda3\\Lib\\R\\library\\htmltools\\html\\htmlDependency.html: Permission denied\"Warning message in file.copy(savedcopy, lib, recursive = TRUE):\n",
      "\"problem copying C:\\ProgramData\\Anaconda3\\Lib\\R\\library\\00LOCK\\htmltools\\html\\htmlEscape.html to C:\\ProgramData\\Anaconda3\\Lib\\R\\library\\htmltools\\html\\htmlEscape.html: Permission denied\"Warning message in file.copy(savedcopy, lib, recursive = TRUE):\n",
      "\"problem copying C:\\ProgramData\\Anaconda3\\Lib\\R\\library\\00LOCK\\htmltools\\html\\htmlPreserve.html to C:\\ProgramData\\Anaconda3\\Lib\\R\\library\\htmltools\\html\\htmlPreserve.html: Permission denied\"Warning message in file.copy(savedcopy, lib, recursive = TRUE):\n",
      "\"problem copying C:\\ProgramData\\Anaconda3\\Lib\\R\\library\\00LOCK\\htmltools\\html\\htmlTemplate.html to C:\\ProgramData\\Anaconda3\\Lib\\R\\library\\htmltools\\html\\htmlTemplate.html: Permission denied\"Warning message in file.copy(savedcopy, lib, recursive = TRUE):\n",
      "\"problem copying C:\\ProgramData\\Anaconda3\\Lib\\R\\library\\00LOCK\\htmltools\\html\\html_print.html to C:\\ProgramData\\Anaconda3\\Lib\\R\\library\\htmltools\\html\\html_print.html: Permission denied\"Warning message in file.copy(savedcopy, lib, recursive = TRUE):\n",
      "\"problem copying C:\\ProgramData\\Anaconda3\\Lib\\R\\library\\00LOCK\\htmltools\\html\\include.html to C:\\ProgramData\\Anaconda3\\Lib\\R\\library\\htmltools\\html\\include.html: Permission denied\"Warning message in file.copy(savedcopy, lib, recursive = TRUE):\n",
      "\"problem copying C:\\ProgramData\\Anaconda3\\Lib\\R\\library\\00LOCK\\htmltools\\html\\knitr_methods.html to C:\\ProgramData\\Anaconda3\\Lib\\R\\library\\htmltools\\html\\knitr_methods.html: Permission denied\"Warning message in file.copy(savedcopy, lib, recursive = TRUE):\n",
      "\"problem copying C:\\ProgramData\\Anaconda3\\Lib\\R\\library\\00LOCK\\htmltools\\html\\makeDependencyRelative.html to C:\\ProgramData\\Anaconda3\\Lib\\R\\library\\htmltools\\html\\makeDependencyRelative.html: Permission denied\"Warning message in file.copy(savedcopy, lib, recursive = TRUE):\n",
      "\"problem copying C:\\ProgramData\\Anaconda3\\Lib\\R\\library\\00LOCK\\htmltools\\html\\print.html.html to C:\\ProgramData\\Anaconda3\\Lib\\R\\library\\htmltools\\html\\print.html.html: Permission denied\"Warning message in file.copy(savedcopy, lib, recursive = TRUE):\n",
      "\"problem copying C:\\ProgramData\\Anaconda3\\Lib\\R\\library\\00LOCK\\htmltools\\html\\R.css to C:\\ProgramData\\Anaconda3\\Lib\\R\\library\\htmltools\\html\\R.css: Permission denied\"Warning message in file.copy(savedcopy, lib, recursive = TRUE):\n",
      "\"problem copying C:\\ProgramData\\Anaconda3\\Lib\\R\\library\\00LOCK\\htmltools\\html\\renderDependencies.html to C:\\ProgramData\\Anaconda3\\Lib\\R\\library\\htmltools\\html\\renderDependencies.html: Permission denied\"Warning message in file.copy(savedcopy, lib, recursive = TRUE):\n",
      "\"problem copying C:\\ProgramData\\Anaconda3\\Lib\\R\\library\\00LOCK\\htmltools\\html\\renderDocument.html to C:\\ProgramData\\Anaconda3\\Lib\\R\\library\\htmltools\\html\\renderDocument.html: Permission denied\"Warning message in file.copy(savedcopy, lib, recursive = TRUE):\n",
      "\"problem copying C:\\ProgramData\\Anaconda3\\Lib\\R\\library\\00LOCK\\htmltools\\html\\renderTags.html to C:\\ProgramData\\Anaconda3\\Lib\\R\\library\\htmltools\\html\\renderTags.html: Permission denied\"Warning message in file.copy(savedcopy, lib, recursive = TRUE):\n",
      "\"problem copying C:\\ProgramData\\Anaconda3\\Lib\\R\\library\\00LOCK\\htmltools\\html\\resolveDependencies.html to C:\\ProgramData\\Anaconda3\\Lib\\R\\library\\htmltools\\html\\resolveDependencies.html: Permission denied\"Warning message in file.copy(savedcopy, lib, recursive = TRUE):\n",
      "\"problem copying C:\\ProgramData\\Anaconda3\\Lib\\R\\library\\00LOCK\\htmltools\\html\\save_html.html to C:\\ProgramData\\Anaconda3\\Lib\\R\\library\\htmltools\\html\\save_html.html: Permission denied\"Warning message in file.copy(savedcopy, lib, recursive = TRUE):\n",
      "\"problem copying C:\\ProgramData\\Anaconda3\\Lib\\R\\library\\00LOCK\\htmltools\\html\\singleton.html to C:\\ProgramData\\Anaconda3\\Lib\\R\\library\\htmltools\\html\\singleton.html: Permission denied\"Warning message in file.copy(savedcopy, lib, recursive = TRUE):\n",
      "\"problem copying C:\\ProgramData\\Anaconda3\\Lib\\R\\library\\00LOCK\\htmltools\\html\\singleton_tools.html to C:\\ProgramData\\Anaconda3\\Lib\\R\\library\\htmltools\\html\\singleton_tools.html: Permission denied\"Warning message in file.copy(savedcopy, lib, recursive = TRUE):\n",
      "\"problem copying C:\\ProgramData\\Anaconda3\\Lib\\R\\library\\00LOCK\\htmltools\\html\\subtractDependencies.html to C:\\ProgramData\\Anaconda3\\Lib\\R\\library\\htmltools\\html\\subtractDependencies.html: Permission denied\"Warning message in file.copy(savedcopy, lib, recursive = TRUE):\n",
      "\"problem copying C:\\ProgramData\\Anaconda3\\Lib\\R\\library\\00LOCK\\htmltools\\html\\suppressDependencies.html to C:\\ProgramData\\Anaconda3\\Lib\\R\\library\\htmltools\\html\\suppressDependencies.html: Permission denied\"Warning message in file.copy(savedcopy, lib, recursive = TRUE):\n",
      "\"problem copying C:\\ProgramData\\Anaconda3\\Lib\\R\\library\\00LOCK\\htmltools\\html\\tag.html to C:\\ProgramData\\Anaconda3\\Lib\\R\\library\\htmltools\\html\\tag.html: Permission denied\"Warning message in file.copy(savedcopy, lib, recursive = TRUE):\n",
      "\"problem copying C:\\ProgramData\\Anaconda3\\Lib\\R\\library\\00LOCK\\htmltools\\html\\urlEncodePath.html to C:\\ProgramData\\Anaconda3\\Lib\\R\\library\\htmltools\\html\\urlEncodePath.html: Permission denied\"Warning message in file.copy(savedcopy, lib, recursive = TRUE):\n",
      "\"problem copying C:\\ProgramData\\Anaconda3\\Lib\\R\\library\\00LOCK\\htmltools\\html\\validateCssUnit.html to C:\\ProgramData\\Anaconda3\\Lib\\R\\library\\htmltools\\html\\validateCssUnit.html: Permission denied\"Warning message in file.copy(savedcopy, lib, recursive = TRUE):\n",
      "\"problem copying C:\\ProgramData\\Anaconda3\\Lib\\R\\library\\00LOCK\\htmltools\\html\\withTags.html to C:\\ProgramData\\Anaconda3\\Lib\\R\\library\\htmltools\\html\\withTags.html: Permission denied\"Warning message in file.copy(savedcopy, lib, recursive = TRUE):\n",
      "\"problem copying C:\\ProgramData\\Anaconda3\\Lib\\R\\library\\00LOCK\\htmltools\\INDEX to C:\\ProgramData\\Anaconda3\\Lib\\R\\library\\htmltools\\INDEX: Permission denied\"Warning message in file.copy(savedcopy, lib, recursive = TRUE):\n",
      "\"problem copying C:\\ProgramData\\Anaconda3\\Lib\\R\\library\\00LOCK\\htmltools\\libs\\x64\\htmltools.dll to C:\\ProgramData\\Anaconda3\\Lib\\R\\library\\htmltools\\libs\\x64\\htmltools.dll: Permission denied\"Warning message in file.copy(savedcopy, lib, recursive = TRUE):\n",
      "\"problem copying C:\\ProgramData\\Anaconda3\\Lib\\R\\library\\00LOCK\\htmltools\\MD5 to C:\\ProgramData\\Anaconda3\\Lib\\R\\library\\htmltools\\MD5: Permission denied\"Warning message in file.copy(savedcopy, lib, recursive = TRUE):\n",
      "\"problem copying C:\\ProgramData\\Anaconda3\\Lib\\R\\library\\00LOCK\\htmltools\\Meta\\features.rds to C:\\ProgramData\\Anaconda3\\Lib\\R\\library\\htmltools\\Meta\\features.rds: Permission denied\"Warning message in file.copy(savedcopy, lib, recursive = TRUE):\n",
      "\"problem copying C:\\ProgramData\\Anaconda3\\Lib\\R\\library\\00LOCK\\htmltools\\Meta\\hsearch.rds to C:\\ProgramData\\Anaconda3\\Lib\\R\\library\\htmltools\\Meta\\hsearch.rds: Permission denied\"Warning message in file.copy(savedcopy, lib, recursive = TRUE):\n",
      "\"problem copying C:\\ProgramData\\Anaconda3\\Lib\\R\\library\\00LOCK\\htmltools\\Meta\\links.rds to C:\\ProgramData\\Anaconda3\\Lib\\R\\library\\htmltools\\Meta\\links.rds: Permission denied\"Warning message in file.copy(savedcopy, lib, recursive = TRUE):\n",
      "\"problem copying C:\\ProgramData\\Anaconda3\\Lib\\R\\library\\00LOCK\\htmltools\\Meta\\nsInfo.rds to C:\\ProgramData\\Anaconda3\\Lib\\R\\library\\htmltools\\Meta\\nsInfo.rds: Permission denied\"Warning message in file.copy(savedcopy, lib, recursive = TRUE):\n",
      "\"problem copying C:\\ProgramData\\Anaconda3\\Lib\\R\\library\\00LOCK\\htmltools\\Meta\\package.rds to C:\\ProgramData\\Anaconda3\\Lib\\R\\library\\htmltools\\Meta\\package.rds: Permission denied\"Warning message in file.copy(savedcopy, lib, recursive = TRUE):\n",
      "\"problem copying C:\\ProgramData\\Anaconda3\\Lib\\R\\library\\00LOCK\\htmltools\\Meta\\Rd.rds to C:\\ProgramData\\Anaconda3\\Lib\\R\\library\\htmltools\\Meta\\Rd.rds: Permission denied\"Warning message in file.copy(savedcopy, lib, recursive = TRUE):\n",
      "\"problem copying C:\\ProgramData\\Anaconda3\\Lib\\R\\library\\00LOCK\\htmltools\\NAMESPACE to C:\\ProgramData\\Anaconda3\\Lib\\R\\library\\htmltools\\NAMESPACE: Permission denied\"Warning message in file.copy(savedcopy, lib, recursive = TRUE):\n",
      "\"problem copying C:\\ProgramData\\Anaconda3\\Lib\\R\\library\\00LOCK\\htmltools\\NEWS to C:\\ProgramData\\Anaconda3\\Lib\\R\\library\\htmltools\\NEWS: Permission denied\"Warning message in file.copy(savedcopy, lib, recursive = TRUE):\n",
      "\"problem copying C:\\ProgramData\\Anaconda3\\Lib\\R\\library\\00LOCK\\htmltools\\R\\htmltools to C:\\ProgramData\\Anaconda3\\Lib\\R\\library\\htmltools\\R\\htmltools: Permission denied\"Warning message in file.copy(savedcopy, lib, recursive = TRUE):\n",
      "\"problem copying C:\\ProgramData\\Anaconda3\\Lib\\R\\library\\00LOCK\\htmltools\\R\\htmltools.rdb to C:\\ProgramData\\Anaconda3\\Lib\\R\\library\\htmltools\\R\\htmltools.rdb: Permission denied\"Warning message in file.copy(savedcopy, lib, recursive = TRUE):\n",
      "\"problem copying C:\\ProgramData\\Anaconda3\\Lib\\R\\library\\00LOCK\\htmltools\\R\\htmltools.rdx to C:\\ProgramData\\Anaconda3\\Lib\\R\\library\\htmltools\\R\\htmltools.rdx: Permission denied\"Warning message:\n",
      "\"restored 'htmltools'\""
     ]
    },
    {
     "name": "stdout",
     "output_type": "stream",
     "text": [
      "package 'rlang' successfully unpacked and MD5 sums checked\n"
     ]
    },
    {
     "name": "stderr",
     "output_type": "stream",
     "text": [
      "Warning message:\n",
      "\"cannot remove prior installation of package 'rlang'\"Warning message in file.copy(savedcopy, lib, recursive = TRUE):\n",
      "\"problem copying C:\\ProgramData\\Anaconda3\\Lib\\R\\library\\00LOCK\\rlang\\libs\\x64\\rlang.dll to C:\\ProgramData\\Anaconda3\\Lib\\R\\library\\rlang\\libs\\x64\\rlang.dll: Permission denied\"Warning message:\n",
      "\"restored 'rlang'\""
     ]
    },
    {
     "name": "stdout",
     "output_type": "stream",
     "text": [
      "package 'xfun' successfully unpacked and MD5 sums checked\n",
      "package 'jsonlite' successfully unpacked and MD5 sums checked\n"
     ]
    },
    {
     "name": "stderr",
     "output_type": "stream",
     "text": [
      "Warning message:\n",
      "\"cannot remove prior installation of package 'jsonlite'\"Warning message in file.copy(savedcopy, lib, recursive = TRUE):\n",
      "\"problem copying C:\\ProgramData\\Anaconda3\\Lib\\R\\library\\00LOCK\\jsonlite\\CITATION to C:\\ProgramData\\Anaconda3\\Lib\\R\\library\\jsonlite\\CITATION: Permission denied\"Warning message in file.copy(savedcopy, lib, recursive = TRUE):\n",
      "\"problem copying C:\\ProgramData\\Anaconda3\\Lib\\R\\library\\00LOCK\\jsonlite\\DESCRIPTION to C:\\ProgramData\\Anaconda3\\Lib\\R\\library\\jsonlite\\DESCRIPTION: Permission denied\"Warning message in file.copy(savedcopy, lib, recursive = TRUE):\n",
      "\"problem copying C:\\ProgramData\\Anaconda3\\Lib\\R\\library\\00LOCK\\jsonlite\\doc\\index.html to C:\\ProgramData\\Anaconda3\\Lib\\R\\library\\jsonlite\\doc\\index.html: Permission denied\"Warning message in file.copy(savedcopy, lib, recursive = TRUE):\n",
      "\"problem copying C:\\ProgramData\\Anaconda3\\Lib\\R\\library\\00LOCK\\jsonlite\\doc\\json-aaquickstart.html to C:\\ProgramData\\Anaconda3\\Lib\\R\\library\\jsonlite\\doc\\json-aaquickstart.html: Permission denied\"Warning message in file.copy(savedcopy, lib, recursive = TRUE):\n",
      "\"problem copying C:\\ProgramData\\Anaconda3\\Lib\\R\\library\\00LOCK\\jsonlite\\doc\\json-aaquickstart.R to C:\\ProgramData\\Anaconda3\\Lib\\R\\library\\jsonlite\\doc\\json-aaquickstart.R: Permission denied\"Warning message in file.copy(savedcopy, lib, recursive = TRUE):\n",
      "\"problem copying C:\\ProgramData\\Anaconda3\\Lib\\R\\library\\00LOCK\\jsonlite\\doc\\json-aaquickstart.Rmd to C:\\ProgramData\\Anaconda3\\Lib\\R\\library\\jsonlite\\doc\\json-aaquickstart.Rmd: Permission denied\"Warning message in file.copy(savedcopy, lib, recursive = TRUE):\n",
      "\"problem copying C:\\ProgramData\\Anaconda3\\Lib\\R\\library\\00LOCK\\jsonlite\\doc\\json-apis.html to C:\\ProgramData\\Anaconda3\\Lib\\R\\library\\jsonlite\\doc\\json-apis.html: Permission denied\"Warning message in file.copy(savedcopy, lib, recursive = TRUE):\n",
      "\"problem copying C:\\ProgramData\\Anaconda3\\Lib\\R\\library\\00LOCK\\jsonlite\\doc\\json-apis.Rmd to C:\\ProgramData\\Anaconda3\\Lib\\R\\library\\jsonlite\\doc\\json-apis.Rmd: Permission denied\"Warning message in file.copy(savedcopy, lib, recursive = TRUE):\n",
      "\"problem copying C:\\ProgramData\\Anaconda3\\Lib\\R\\library\\00LOCK\\jsonlite\\doc\\json-mapping.pdf to C:\\ProgramData\\Anaconda3\\Lib\\R\\library\\jsonlite\\doc\\json-mapping.pdf: Permission denied\"Warning message in file.copy(savedcopy, lib, recursive = TRUE):\n",
      "\"problem copying C:\\ProgramData\\Anaconda3\\Lib\\R\\library\\00LOCK\\jsonlite\\doc\\json-mapping.pdf.asis to C:\\ProgramData\\Anaconda3\\Lib\\R\\library\\jsonlite\\doc\\json-mapping.pdf.asis: Permission denied\"Warning message in file.copy(savedcopy, lib, recursive = TRUE):\n",
      "\"problem copying C:\\ProgramData\\Anaconda3\\Lib\\R\\library\\00LOCK\\jsonlite\\doc\\json-opencpu.pdf to C:\\ProgramData\\Anaconda3\\Lib\\R\\library\\jsonlite\\doc\\json-opencpu.pdf: Permission denied\"Warning message in file.copy(savedcopy, lib, recursive = TRUE):\n",
      "\"problem copying C:\\ProgramData\\Anaconda3\\Lib\\R\\library\\00LOCK\\jsonlite\\doc\\json-opencpu.pdf.asis to C:\\ProgramData\\Anaconda3\\Lib\\R\\library\\jsonlite\\doc\\json-opencpu.pdf.asis: Permission denied\"Warning message in file.copy(savedcopy, lib, recursive = TRUE):\n",
      "\"problem copying C:\\ProgramData\\Anaconda3\\Lib\\R\\library\\00LOCK\\jsonlite\\doc\\json-paging.html to C:\\ProgramData\\Anaconda3\\Lib\\R\\library\\jsonlite\\doc\\json-paging.html: Permission denied\"Warning message in file.copy(savedcopy, lib, recursive = TRUE):\n",
      "\"problem copying C:\\ProgramData\\Anaconda3\\Lib\\R\\library\\00LOCK\\jsonlite\\doc\\json-paging.Rmd to C:\\ProgramData\\Anaconda3\\Lib\\R\\library\\jsonlite\\doc\\json-paging.Rmd: Permission denied\"Warning message in file.copy(savedcopy, lib, recursive = TRUE):\n",
      "\"problem copying C:\\ProgramData\\Anaconda3\\Lib\\R\\library\\00LOCK\\jsonlite\\help\\aliases.rds to C:\\ProgramData\\Anaconda3\\Lib\\R\\library\\jsonlite\\help\\aliases.rds: Permission denied\"Warning message in file.copy(savedcopy, lib, recursive = TRUE):\n",
      "\"problem copying C:\\ProgramData\\Anaconda3\\Lib\\R\\library\\00LOCK\\jsonlite\\help\\AnIndex to C:\\ProgramData\\Anaconda3\\Lib\\R\\library\\jsonlite\\help\\AnIndex: Permission denied\"Warning message in file.copy(savedcopy, lib, recursive = TRUE):\n",
      "\"problem copying C:\\ProgramData\\Anaconda3\\Lib\\R\\library\\00LOCK\\jsonlite\\help\\jsonlite.rdb to C:\\ProgramData\\Anaconda3\\Lib\\R\\library\\jsonlite\\help\\jsonlite.rdb: Permission denied\"Warning message in file.copy(savedcopy, lib, recursive = TRUE):\n",
      "\"problem copying C:\\ProgramData\\Anaconda3\\Lib\\R\\library\\00LOCK\\jsonlite\\help\\jsonlite.rdx to C:\\ProgramData\\Anaconda3\\Lib\\R\\library\\jsonlite\\help\\jsonlite.rdx: Permission denied\"Warning message in file.copy(savedcopy, lib, recursive = TRUE):\n",
      "\"problem copying C:\\ProgramData\\Anaconda3\\Lib\\R\\library\\00LOCK\\jsonlite\\help\\paths.rds to C:\\ProgramData\\Anaconda3\\Lib\\R\\library\\jsonlite\\help\\paths.rds: Permission denied\"Warning message in file.copy(savedcopy, lib, recursive = TRUE):\n",
      "\"problem copying C:\\ProgramData\\Anaconda3\\Lib\\R\\library\\00LOCK\\jsonlite\\html\\00Index.html to C:\\ProgramData\\Anaconda3\\Lib\\R\\library\\jsonlite\\html\\00Index.html: Permission denied\"Warning message in file.copy(savedcopy, lib, recursive = TRUE):\n",
      "\"problem copying C:\\ProgramData\\Anaconda3\\Lib\\R\\library\\00LOCK\\jsonlite\\html\\base64.html to C:\\ProgramData\\Anaconda3\\Lib\\R\\library\\jsonlite\\html\\base64.html: Permission denied\"Warning message in file.copy(savedcopy, lib, recursive = TRUE):\n",
      "\"problem copying C:\\ProgramData\\Anaconda3\\Lib\\R\\library\\00LOCK\\jsonlite\\html\\flatten.html to C:\\ProgramData\\Anaconda3\\Lib\\R\\library\\jsonlite\\html\\flatten.html: Permission denied\"Warning message in file.copy(savedcopy, lib, recursive = TRUE):\n",
      "\"problem copying C:\\ProgramData\\Anaconda3\\Lib\\R\\library\\00LOCK\\jsonlite\\html\\fromJSON.html to C:\\ProgramData\\Anaconda3\\Lib\\R\\library\\jsonlite\\html\\fromJSON.html: Permission denied\"Warning message in file.copy(savedcopy, lib, recursive = TRUE):\n",
      "\"problem copying C:\\ProgramData\\Anaconda3\\Lib\\R\\library\\00LOCK\\jsonlite\\html\\prettify.html to C:\\ProgramData\\Anaconda3\\Lib\\R\\library\\jsonlite\\html\\prettify.html: Permission denied\"Warning message in file.copy(savedcopy, lib, recursive = TRUE):\n",
      "\"problem copying C:\\ProgramData\\Anaconda3\\Lib\\R\\library\\00LOCK\\jsonlite\\html\\R.css to C:\\ProgramData\\Anaconda3\\Lib\\R\\library\\jsonlite\\html\\R.css: Permission denied\"Warning message in file.copy(savedcopy, lib, recursive = TRUE):\n",
      "\"problem copying C:\\ProgramData\\Anaconda3\\Lib\\R\\library\\00LOCK\\jsonlite\\html\\rbind_pages.html to C:\\ProgramData\\Anaconda3\\Lib\\R\\library\\jsonlite\\html\\rbind_pages.html: Permission denied\"Warning message in file.copy(savedcopy, lib, recursive = TRUE):\n",
      "\"problem copying C:\\ProgramData\\Anaconda3\\Lib\\R\\library\\00LOCK\\jsonlite\\html\\read_json.html to C:\\ProgramData\\Anaconda3\\Lib\\R\\library\\jsonlite\\html\\read_json.html: Permission denied\"Warning message in file.copy(savedcopy, lib, recursive = TRUE):\n",
      "\"problem copying C:\\ProgramData\\Anaconda3\\Lib\\R\\library\\00LOCK\\jsonlite\\html\\serializeJSON.html to C:\\ProgramData\\Anaconda3\\Lib\\R\\library\\jsonlite\\html\\serializeJSON.html: Permission denied\"Warning message in file.copy(savedcopy, lib, recursive = TRUE):\n",
      "\"problem copying C:\\ProgramData\\Anaconda3\\Lib\\R\\library\\00LOCK\\jsonlite\\html\\stream_in.html to C:\\ProgramData\\Anaconda3\\Lib\\R\\library\\jsonlite\\html\\stream_in.html: Permission denied\"Warning message in file.copy(savedcopy, lib, recursive = TRUE):\n",
      "\"problem copying C:\\ProgramData\\Anaconda3\\Lib\\R\\library\\00LOCK\\jsonlite\\html\\unbox.html to C:\\ProgramData\\Anaconda3\\Lib\\R\\library\\jsonlite\\html\\unbox.html: Permission denied\"Warning message in file.copy(savedcopy, lib, recursive = TRUE):\n",
      "\"problem copying C:\\ProgramData\\Anaconda3\\Lib\\R\\library\\00LOCK\\jsonlite\\html\\validate.html to C:\\ProgramData\\Anaconda3\\Lib\\R\\library\\jsonlite\\html\\validate.html: Permission denied\"Warning message in file.copy(savedcopy, lib, recursive = TRUE):\n",
      "\"problem copying C:\\ProgramData\\Anaconda3\\Lib\\R\\library\\00LOCK\\jsonlite\\INDEX to C:\\ProgramData\\Anaconda3\\Lib\\R\\library\\jsonlite\\INDEX: Permission denied\"Warning message in file.copy(savedcopy, lib, recursive = TRUE):\n",
      "\"problem copying C:\\ProgramData\\Anaconda3\\Lib\\R\\library\\00LOCK\\jsonlite\\libs\\x64\\jsonlite.dll to C:\\ProgramData\\Anaconda3\\Lib\\R\\library\\jsonlite\\libs\\x64\\jsonlite.dll: Permission denied\"Warning message in file.copy(savedcopy, lib, recursive = TRUE):\n",
      "\"problem copying C:\\ProgramData\\Anaconda3\\Lib\\R\\library\\00LOCK\\jsonlite\\LICENSE to C:\\ProgramData\\Anaconda3\\Lib\\R\\library\\jsonlite\\LICENSE: Permission denied\"Warning message in file.copy(savedcopy, lib, recursive = TRUE):\n",
      "\"problem copying C:\\ProgramData\\Anaconda3\\Lib\\R\\library\\00LOCK\\jsonlite\\MD5 to C:\\ProgramData\\Anaconda3\\Lib\\R\\library\\jsonlite\\MD5: Permission denied\"Warning message in file.copy(savedcopy, lib, recursive = TRUE):\n",
      "\"problem copying C:\\ProgramData\\Anaconda3\\Lib\\R\\library\\00LOCK\\jsonlite\\Meta\\features.rds to C:\\ProgramData\\Anaconda3\\Lib\\R\\library\\jsonlite\\Meta\\features.rds: Permission denied\"Warning message in file.copy(savedcopy, lib, recursive = TRUE):\n",
      "\"problem copying C:\\ProgramData\\Anaconda3\\Lib\\R\\library\\00LOCK\\jsonlite\\Meta\\hsearch.rds to C:\\ProgramData\\Anaconda3\\Lib\\R\\library\\jsonlite\\Meta\\hsearch.rds: Permission denied\"Warning message in file.copy(savedcopy, lib, recursive = TRUE):\n",
      "\"problem copying C:\\ProgramData\\Anaconda3\\Lib\\R\\library\\00LOCK\\jsonlite\\Meta\\links.rds to C:\\ProgramData\\Anaconda3\\Lib\\R\\library\\jsonlite\\Meta\\links.rds: Permission denied\"Warning message in file.copy(savedcopy, lib, recursive = TRUE):\n",
      "\"problem copying C:\\ProgramData\\Anaconda3\\Lib\\R\\library\\00LOCK\\jsonlite\\Meta\\nsInfo.rds to C:\\ProgramData\\Anaconda3\\Lib\\R\\library\\jsonlite\\Meta\\nsInfo.rds: Permission denied\"Warning message in file.copy(savedcopy, lib, recursive = TRUE):\n",
      "\"problem copying C:\\ProgramData\\Anaconda3\\Lib\\R\\library\\00LOCK\\jsonlite\\Meta\\package.rds to C:\\ProgramData\\Anaconda3\\Lib\\R\\library\\jsonlite\\Meta\\package.rds: Permission denied\"Warning message in file.copy(savedcopy, lib, recursive = TRUE):\n",
      "\"problem copying C:\\ProgramData\\Anaconda3\\Lib\\R\\library\\00LOCK\\jsonlite\\Meta\\Rd.rds to C:\\ProgramData\\Anaconda3\\Lib\\R\\library\\jsonlite\\Meta\\Rd.rds: Permission denied\"Warning message in file.copy(savedcopy, lib, recursive = TRUE):\n",
      "\"problem copying C:\\ProgramData\\Anaconda3\\Lib\\R\\library\\00LOCK\\jsonlite\\Meta\\vignette.rds to C:\\ProgramData\\Anaconda3\\Lib\\R\\library\\jsonlite\\Meta\\vignette.rds: Permission denied\"Warning message in file.copy(savedcopy, lib, recursive = TRUE):\n",
      "\"problem copying C:\\ProgramData\\Anaconda3\\Lib\\R\\library\\00LOCK\\jsonlite\\NAMESPACE to C:\\ProgramData\\Anaconda3\\Lib\\R\\library\\jsonlite\\NAMESPACE: Permission denied\"Warning message in file.copy(savedcopy, lib, recursive = TRUE):\n",
      "\"problem copying C:\\ProgramData\\Anaconda3\\Lib\\R\\library\\00LOCK\\jsonlite\\NEWS to C:\\ProgramData\\Anaconda3\\Lib\\R\\library\\jsonlite\\NEWS: Permission denied\"Warning message in file.copy(savedcopy, lib, recursive = TRUE):\n",
      "\"problem copying C:\\ProgramData\\Anaconda3\\Lib\\R\\library\\00LOCK\\jsonlite\\R\\jsonlite to C:\\ProgramData\\Anaconda3\\Lib\\R\\library\\jsonlite\\R\\jsonlite: Permission denied\"Warning message in file.copy(savedcopy, lib, recursive = TRUE):\n",
      "\"problem copying C:\\ProgramData\\Anaconda3\\Lib\\R\\library\\00LOCK\\jsonlite\\R\\jsonlite.rdb to C:\\ProgramData\\Anaconda3\\Lib\\R\\library\\jsonlite\\R\\jsonlite.rdb: Permission denied\"Warning message in file.copy(savedcopy, lib, recursive = TRUE):\n",
      "\"problem copying C:\\ProgramData\\Anaconda3\\Lib\\R\\library\\00LOCK\\jsonlite\\R\\jsonlite.rdx to C:\\ProgramData\\Anaconda3\\Lib\\R\\library\\jsonlite\\R\\jsonlite.rdx: Permission denied\"Warning message:\n",
      "\"restored 'jsonlite'\""
     ]
    },
    {
     "name": "stdout",
     "output_type": "stream",
     "text": [
      "package 'tidyverse' successfully unpacked and MD5 sums checked\n",
      "\n",
      "The downloaded binary packages are in\n",
      "\tC:\\Users\\mlentini\\AppData\\Local\\Temp\\RtmpsF0PUT\\downloaded_packages\n"
     ]
    },
    {
     "name": "stderr",
     "output_type": "stream",
     "text": [
      "installing the source packages 'evaluate', 'bslib', 'tinytex', 'scales', 'knitr', 'rmarkdown', 'broom', 'crayon', 'dtplyr', 'ggplot2', 'reprex'\n",
      "\n",
      "Warning message in install.packages(\"tidyverse\"):\n",
      "\"installation of package 'evaluate' had non-zero exit status\"Warning message in install.packages(\"tidyverse\"):\n",
      "\"installation of package 'bslib' had non-zero exit status\"Warning message in install.packages(\"tidyverse\"):\n",
      "\"installation of package 'tinytex' had non-zero exit status\"Warning message in install.packages(\"tidyverse\"):\n",
      "\"installation of package 'scales' had non-zero exit status\"Warning message in install.packages(\"tidyverse\"):\n",
      "\"installation of package 'crayon' had non-zero exit status\"Warning message in install.packages(\"tidyverse\"):\n",
      "\"installation of package 'knitr' had non-zero exit status\"Warning message in install.packages(\"tidyverse\"):\n",
      "\"installation of package 'ggplot2' had non-zero exit status\"Warning message in install.packages(\"tidyverse\"):\n",
      "\"installation of package 'rmarkdown' had non-zero exit status\"Warning message in install.packages(\"tidyverse\"):\n",
      "\"installation of package 'broom' had non-zero exit status\"Warning message in install.packages(\"tidyverse\"):\n",
      "\"installation of package 'reprex' had non-zero exit status\""
     ]
    },
    {
     "name": "stdout",
     "output_type": "stream",
     "text": [
      "\n",
      "  There is a binary version available but the source version is later:\n",
      "       binary source needs_compilation\n",
      "readxl  1.3.1  1.4.0              TRUE\n",
      "\n",
      "  Binaries will be installed\n",
      "package 'readxl' successfully unpacked and MD5 sums checked\n",
      "\n",
      "The downloaded binary packages are in\n",
      "\tC:\\Users\\mlentini\\AppData\\Local\\Temp\\RtmpsF0PUT\\downloaded_packages\n",
      "\n",
      "  There is a binary version available but the source version is later:\n",
      "    binary source needs_compilation\n",
      "grf  1.2.0  2.1.0              TRUE\n",
      "\n",
      "  Binaries will be installed\n"
     ]
    },
    {
     "name": "stderr",
     "output_type": "stream",
     "text": [
      "Warning message:\n",
      "\"package 'grf' is in use and will not be installed\""
     ]
    },
    {
     "name": "stdout",
     "output_type": "stream",
     "text": [
      "\n",
      "  There is a binary version available but the source version is later:\n",
      "    binary source needs_compilation\n",
      "bcf    1.3  1.3.1              TRUE\n",
      "\n",
      "  Binaries will be installed\n",
      "package 'bcf' successfully unpacked and MD5 sums checked\n",
      "\n",
      "The downloaded binary packages are in\n",
      "\tC:\\Users\\mlentini\\AppData\\Local\\Temp\\RtmpsF0PUT\\downloaded_packages\n"
     ]
    },
    {
     "name": "stderr",
     "output_type": "stream",
     "text": [
      "also installing the dependencies 'rlang', 'scales'\n",
      "\n"
     ]
    },
    {
     "name": "stdout",
     "output_type": "stream",
     "text": [
      "\n",
      "  There are binary versions available but the source versions are later:\n",
      "        binary source needs_compilation\n",
      "rlang   0.4.11  1.0.2              TRUE\n",
      "scales   1.1.1  1.2.0             FALSE\n",
      "ggplot2  3.3.3  3.3.6             FALSE\n",
      "\n",
      "  Binaries will be installed\n",
      "package 'rlang' successfully unpacked and MD5 sums checked\n"
     ]
    },
    {
     "name": "stderr",
     "output_type": "stream",
     "text": [
      "Warning message:\n",
      "\"cannot remove prior installation of package 'rlang'\"Warning message in file.copy(savedcopy, lib, recursive = TRUE):\n",
      "\"problem copying C:\\ProgramData\\Anaconda3\\Lib\\R\\library\\00LOCK\\rlang\\libs\\x64\\rlang.dll to C:\\ProgramData\\Anaconda3\\Lib\\R\\library\\rlang\\libs\\x64\\rlang.dll: Permission denied\"Warning message:\n",
      "\"restored 'rlang'\""
     ]
    },
    {
     "name": "stdout",
     "output_type": "stream",
     "text": [
      "\n",
      "The downloaded binary packages are in\n",
      "\tC:\\Users\\mlentini\\AppData\\Local\\Temp\\RtmpsF0PUT\\downloaded_packages\n"
     ]
    },
    {
     "name": "stderr",
     "output_type": "stream",
     "text": [
      "installing the source packages 'scales', 'ggplot2'\n",
      "\n",
      "Warning message in install.packages(\"ggplot2\"):\n",
      "\"installation of package 'scales' had non-zero exit status\"Warning message in install.packages(\"ggplot2\"):\n",
      "\"installation of package 'ggplot2' had non-zero exit status\""
     ]
    },
    {
     "ename": "ERROR",
     "evalue": "Error in library(padr): there is no package called 'padr'\n",
     "output_type": "error",
     "traceback": [
      "Error in library(padr): there is no package called 'padr'\nTraceback:\n",
      "1. library(padr)"
     ]
    }
   ],
   "source": [
    "# install packages\n",
    "install.packages(\"tidyverse\")\n",
    "install.packages(\"readxl\")\n",
    "install.packages(\"grf\")           # generalized random forests (CF)\n",
    "install.packages(\"bcf\")           # Bayesian causal forests (BCF)\n",
    "install.packages(\"ggplot2\")"
   ]
  },
  {
   "cell_type": "code",
   "execution_count": 6,
   "metadata": {},
   "outputs": [
    {
     "name": "stderr",
     "output_type": "stream",
     "text": [
      "Warning message:\n",
      "\"package 'dplyr' was built under R version 3.6.3\"\n",
      "Attaching package: 'dplyr'\n",
      "\n",
      "The following objects are masked from 'package:stats':\n",
      "\n",
      "    filter, lag\n",
      "\n",
      "The following objects are masked from 'package:base':\n",
      "\n",
      "    intersect, setdiff, setequal, union\n",
      "\n",
      "Warning message:\n",
      "\"package 'grf' was built under R version 3.6.3\"Warning message:\n",
      "\"package 'bcf' was built under R version 3.6.3\"Loading required package: Rcpp\n"
     ]
    }
   ],
   "source": [
    "# import libraries\n",
    "#library(tidyr)\n",
    "#library(tidyverse)\n",
    "library(dplyr)\n",
    "library(grf)\n",
    "library(bcf)"
   ]
  },
  {
   "cell_type": "markdown",
   "metadata": {},
   "source": [
    "# Synthetic Data Tests\n",
    "As in Biggs et al. (2021), try 5000 samples with \n",
    "\n",
    "We reference the true optimum policy by identifying the emperical purchasing probabilies from the data, which in general will vary from sample-to-sample."
   ]
  },
  {
   "cell_type": "code",
   "execution_count": 3,
   "metadata": {},
   "outputs": [
    {
     "name": "stdout",
     "output_type": "stream",
     "text": [
      "[1] 60000\n"
     ]
    },
    {
     "data": {
      "text/html": [
       "<table>\n",
       "<thead><tr><th scope=col>X</th><th scope=col>X0</th><th scope=col>X1</th><th scope=col>price</th><th scope=col>Y</th><th scope=col>dataset</th></tr></thead>\n",
       "<tbody>\n",
       "\t<tr><td>0       </td><td>7.706850</td><td>5.628133</td><td>5.907969</td><td>1       </td><td>1       </td></tr>\n",
       "\t<tr><td>1       </td><td>5.651118</td><td>4.680682</td><td>4.151923</td><td>1       </td><td>1       </td></tr>\n",
       "\t<tr><td>2       </td><td>2.981832</td><td>5.740122</td><td>5.528813</td><td>0       </td><td>1       </td></tr>\n",
       "\t<tr><td>3       </td><td>5.188695</td><td>4.241128</td><td>4.066763</td><td>1       </td><td>1       </td></tr>\n",
       "\t<tr><td>4       </td><td>5.190794</td><td>6.978757</td><td>7.605967</td><td>0       </td><td>1       </td></tr>\n",
       "\t<tr><td>5       </td><td>5.302665</td><td>6.693723</td><td>3.293914</td><td>1       </td><td>1       </td></tr>\n",
       "</tbody>\n",
       "</table>\n"
      ],
      "text/latex": [
       "\\begin{tabular}{r|llllll}\n",
       " X & X0 & X1 & price & Y & dataset\\\\\n",
       "\\hline\n",
       "\t 0        & 7.706850 & 5.628133 & 5.907969 & 1        & 1       \\\\\n",
       "\t 1        & 5.651118 & 4.680682 & 4.151923 & 1        & 1       \\\\\n",
       "\t 2        & 2.981832 & 5.740122 & 5.528813 & 0        & 1       \\\\\n",
       "\t 3        & 5.188695 & 4.241128 & 4.066763 & 1        & 1       \\\\\n",
       "\t 4        & 5.190794 & 6.978757 & 7.605967 & 0        & 1       \\\\\n",
       "\t 5        & 5.302665 & 6.693723 & 3.293914 & 1        & 1       \\\\\n",
       "\\end{tabular}\n"
      ],
      "text/markdown": [
       "\n",
       "| X | X0 | X1 | price | Y | dataset |\n",
       "|---|---|---|---|---|---|\n",
       "| 0        | 7.706850 | 5.628133 | 5.907969 | 1        | 1        |\n",
       "| 1        | 5.651118 | 4.680682 | 4.151923 | 1        | 1        |\n",
       "| 2        | 2.981832 | 5.740122 | 5.528813 | 0        | 1        |\n",
       "| 3        | 5.188695 | 4.241128 | 4.066763 | 1        | 1        |\n",
       "| 4        | 5.190794 | 6.978757 | 7.605967 | 0        | 1        |\n",
       "| 5        | 5.302665 | 6.693723 | 3.293914 | 1        | 1        |\n",
       "\n"
      ],
      "text/plain": [
       "  X X0       X1       price    Y dataset\n",
       "1 0 7.706850 5.628133 5.907969 1 1      \n",
       "2 1 5.651118 4.680682 4.151923 1 1      \n",
       "3 2 2.981832 5.740122 5.528813 0 1      \n",
       "4 3 5.188695 4.241128 4.066763 1 1      \n",
       "5 4 5.190794 6.978757 7.605967 0 1      \n",
       "6 5 5.302665 6.693723 3.293914 1 1      "
      ]
     },
     "metadata": {},
     "output_type": "display_data"
    }
   ],
   "source": [
    "# import data\n",
    "data <- read.csv('synthetic_datasets.csv')\n",
    "\n",
    "print(nrow(data))\n",
    "head(data)"
   ]
  },
  {
   "cell_type": "markdown",
   "metadata": {},
   "source": [
    "#\n",
    "Visualization "
   ]
  },
  {
   "cell_type": "code",
   "execution_count": 38,
   "metadata": {},
   "outputs": [
    {
     "ename": "ERROR",
     "evalue": "Error in library(ggplot): there is no package called 'ggplot'\n",
     "output_type": "error",
     "traceback": [
      "Error in library(ggplot): there is no package called 'ggplot'\nTraceback:\n",
      "1. library(ggplot)"
     ]
    }
   ],
   "source": [
    "library(ggplot2)\n",
    "data %>% ggplot(, aes(x=X0, y=X1, fill=price)) "
   ]
  },
  {
   "cell_type": "markdown",
   "metadata": {},
   "source": [
    "### Causal Tree\n",
    "Wager and Athey (2018) "
   ]
  },
  {
   "cell_type": "code",
   "execution_count": 19,
   "metadata": {
    "tags": []
   },
   "outputs": [],
   "source": [
    "library(dplyr)"
   ]
  },
  {
   "cell_type": "code",
   "execution_count": 7,
   "metadata": {
    "tags": []
   },
   "outputs": [
    {
     "data": {
      "text/html": [
       "<table>\n",
       "<thead><tr><th scope=col>X</th><th scope=col>X0</th><th scope=col>X1</th></tr></thead>\n",
       "<tbody>\n",
       "\t<tr><td>0       </td><td>7.706850</td><td>5.628133</td></tr>\n",
       "\t<tr><td>1       </td><td>5.651118</td><td>4.680682</td></tr>\n",
       "\t<tr><td>2       </td><td>2.981832</td><td>5.740122</td></tr>\n",
       "\t<tr><td>3       </td><td>5.188695</td><td>4.241128</td></tr>\n",
       "\t<tr><td>4       </td><td>5.190794</td><td>6.978757</td></tr>\n",
       "\t<tr><td>5       </td><td>5.302665</td><td>6.693723</td></tr>\n",
       "</tbody>\n",
       "</table>\n"
      ],
      "text/latex": [
       "\\begin{tabular}{lll}\n",
       " X & X0 & X1\\\\\n",
       "\\hline\n",
       "\t 0        & 7.706850 & 5.628133\\\\\n",
       "\t 1        & 5.651118 & 4.680682\\\\\n",
       "\t 2        & 2.981832 & 5.740122\\\\\n",
       "\t 3        & 5.188695 & 4.241128\\\\\n",
       "\t 4        & 5.190794 & 6.978757\\\\\n",
       "\t 5        & 5.302665 & 6.693723\\\\\n",
       "\\end{tabular}\n"
      ],
      "text/markdown": [
       "\n",
       "| X | X0 | X1 |\n",
       "|---|---|---|\n",
       "| 0        | 7.706850 | 5.628133 |\n",
       "| 1        | 5.651118 | 4.680682 |\n",
       "| 2        | 2.981832 | 5.740122 |\n",
       "| 3        | 5.188695 | 4.241128 |\n",
       "| 4        | 5.190794 | 6.978757 |\n",
       "| 5        | 5.302665 | 6.693723 |\n",
       "\n"
      ],
      "text/plain": [
       "     X X0       X1      \n",
       "[1,] 0 7.706850 5.628133\n",
       "[2,] 1 5.651118 4.680682\n",
       "[3,] 2 2.981832 5.740122\n",
       "[4,] 3 5.188695 4.241128\n",
       "[5,] 4 5.190794 6.978757\n",
       "[6,] 5 5.302665 6.693723"
      ]
     },
     "metadata": {},
     "output_type": "display_data"
    }
   ],
   "source": [
    "# choose dataset\n",
    "X <- data.matrix(data %>% filter(, dataset == 1) %>% select(, -c(dataset, price, Y)))\n",
    "head(X)"
   ]
  },
  {
   "cell_type": "code",
   "execution_count": 15,
   "metadata": {},
   "outputs": [
    {
     "data": {
      "text/html": [
       "<table>\n",
       "<thead><tr><th scope=col>Y</th></tr></thead>\n",
       "<tbody>\n",
       "\t<tr><td>1</td></tr>\n",
       "\t<tr><td>1</td></tr>\n",
       "\t<tr><td>0</td></tr>\n",
       "\t<tr><td>1</td></tr>\n",
       "\t<tr><td>0</td></tr>\n",
       "\t<tr><td>1</td></tr>\n",
       "</tbody>\n",
       "</table>\n"
      ],
      "text/latex": [
       "\\begin{tabular}{l}\n",
       " Y\\\\\n",
       "\\hline\n",
       "\t 1\\\\\n",
       "\t 1\\\\\n",
       "\t 0\\\\\n",
       "\t 1\\\\\n",
       "\t 0\\\\\n",
       "\t 1\\\\\n",
       "\\end{tabular}\n"
      ],
      "text/markdown": [
       "\n",
       "| Y |\n",
       "|---|\n",
       "| 1 |\n",
       "| 1 |\n",
       "| 0 |\n",
       "| 1 |\n",
       "| 0 |\n",
       "| 1 |\n",
       "\n"
      ],
      "text/plain": [
       "     Y\n",
       "[1,] 1\n",
       "[2,] 1\n",
       "[3,] 0\n",
       "[4,] 1\n",
       "[5,] 0\n",
       "[6,] 1"
      ]
     },
     "metadata": {},
     "output_type": "display_data"
    }
   ],
   "source": [
    "Y <- data.matrix(data %>% filter(, dataset == 1) %>% select(, Y))\n",
    "head(Y)"
   ]
  },
  {
   "cell_type": "code",
   "execution_count": 21,
   "metadata": {
    "collapsed": true,
    "jupyter": {
     "outputs_hidden": true
    },
    "tags": []
   },
   "outputs": [
    {
     "data": {
      "text/html": [
       "<table>\n",
       "<thead><tr><th scope=col>predictions</th></tr></thead>\n",
       "<tbody>\n",
       "\t<tr><td>-0.08360401</td></tr>\n",
       "\t<tr><td>-0.25130451</td></tr>\n",
       "\t<tr><td>-0.13486055</td></tr>\n",
       "\t<tr><td>-0.24400265</td></tr>\n",
       "\t<tr><td>-0.24449460</td></tr>\n",
       "\t<tr><td>-0.24677439</td></tr>\n",
       "\t<tr><td>-0.23327339</td></tr>\n",
       "\t<tr><td>-0.23206622</td></tr>\n",
       "\t<tr><td>-0.24834456</td></tr>\n",
       "\t<tr><td>-0.23825729</td></tr>\n",
       "\t<tr><td>-0.23058733</td></tr>\n",
       "\t<tr><td>-0.23228463</td></tr>\n",
       "\t<tr><td>-0.09325239</td></tr>\n",
       "\t<tr><td>-0.24845202</td></tr>\n",
       "\t<tr><td>-0.21660182</td></tr>\n",
       "\t<tr><td>-0.24996433</td></tr>\n",
       "\t<tr><td>-0.24936916</td></tr>\n",
       "\t<tr><td>-0.21857243</td></tr>\n",
       "\t<tr><td>-0.15756823</td></tr>\n",
       "\t<tr><td>-0.24981461</td></tr>\n",
       "\t<tr><td>-0.14703700</td></tr>\n",
       "\t<tr><td>-0.25112595</td></tr>\n",
       "\t<tr><td>-0.25244115</td></tr>\n",
       "\t<tr><td>-0.24790546</td></tr>\n",
       "\t<tr><td>-0.11939285</td></tr>\n",
       "\t<tr><td>-0.20117016</td></tr>\n",
       "\t<tr><td>-0.25184212</td></tr>\n",
       "\t<tr><td>-0.23668217</td></tr>\n",
       "\t<tr><td>-0.20950392</td></tr>\n",
       "\t<tr><td>-0.23262874</td></tr>\n",
       "\t<tr><td>...</td></tr>\n",
       "\t<tr><td>-0.24302022</td></tr>\n",
       "\t<tr><td>-0.27907612</td></tr>\n",
       "\t<tr><td>-0.17763400</td></tr>\n",
       "\t<tr><td>-0.24066376</td></tr>\n",
       "\t<tr><td>-0.27434085</td></tr>\n",
       "\t<tr><td>-0.08361184</td></tr>\n",
       "\t<tr><td>-0.16325478</td></tr>\n",
       "\t<tr><td>-0.12084935</td></tr>\n",
       "\t<tr><td>-0.13754432</td></tr>\n",
       "\t<tr><td>-0.27653750</td></tr>\n",
       "\t<tr><td>-0.27316671</td></tr>\n",
       "\t<tr><td>-0.28849084</td></tr>\n",
       "\t<tr><td>-0.22769492</td></tr>\n",
       "\t<tr><td>-0.26296065</td></tr>\n",
       "\t<tr><td>-0.17943447</td></tr>\n",
       "\t<tr><td>-0.19375967</td></tr>\n",
       "\t<tr><td>-0.27501066</td></tr>\n",
       "\t<tr><td>-0.18203010</td></tr>\n",
       "\t<tr><td>-0.28517467</td></tr>\n",
       "\t<tr><td>-0.19227425</td></tr>\n",
       "\t<tr><td>-0.22311364</td></tr>\n",
       "\t<tr><td>-0.28464972</td></tr>\n",
       "\t<tr><td>-0.26919202</td></tr>\n",
       "\t<tr><td>-0.29661845</td></tr>\n",
       "\t<tr><td>-0.26219332</td></tr>\n",
       "\t<tr><td>-0.24824359</td></tr>\n",
       "\t<tr><td>-0.26735432</td></tr>\n",
       "\t<tr><td>-0.18276551</td></tr>\n",
       "\t<tr><td>-0.25791016</td></tr>\n",
       "\t<tr><td>-0.19486138</td></tr>\n",
       "</tbody>\n",
       "</table>\n"
      ],
      "text/latex": [
       "\\begin{tabular}{r|l}\n",
       " predictions\\\\\n",
       "\\hline\n",
       "\t -0.08360401\\\\\n",
       "\t -0.25130451\\\\\n",
       "\t -0.13486055\\\\\n",
       "\t -0.24400265\\\\\n",
       "\t -0.24449460\\\\\n",
       "\t -0.24677439\\\\\n",
       "\t -0.23327339\\\\\n",
       "\t -0.23206622\\\\\n",
       "\t -0.24834456\\\\\n",
       "\t -0.23825729\\\\\n",
       "\t -0.23058733\\\\\n",
       "\t -0.23228463\\\\\n",
       "\t -0.09325239\\\\\n",
       "\t -0.24845202\\\\\n",
       "\t -0.21660182\\\\\n",
       "\t -0.24996433\\\\\n",
       "\t -0.24936916\\\\\n",
       "\t -0.21857243\\\\\n",
       "\t -0.15756823\\\\\n",
       "\t -0.24981461\\\\\n",
       "\t -0.14703700\\\\\n",
       "\t -0.25112595\\\\\n",
       "\t -0.25244115\\\\\n",
       "\t -0.24790546\\\\\n",
       "\t -0.11939285\\\\\n",
       "\t -0.20117016\\\\\n",
       "\t -0.25184212\\\\\n",
       "\t -0.23668217\\\\\n",
       "\t -0.20950392\\\\\n",
       "\t -0.23262874\\\\\n",
       "\t ...\\\\\n",
       "\t -0.24302022\\\\\n",
       "\t -0.27907612\\\\\n",
       "\t -0.17763400\\\\\n",
       "\t -0.24066376\\\\\n",
       "\t -0.27434085\\\\\n",
       "\t -0.08361184\\\\\n",
       "\t -0.16325478\\\\\n",
       "\t -0.12084935\\\\\n",
       "\t -0.13754432\\\\\n",
       "\t -0.27653750\\\\\n",
       "\t -0.27316671\\\\\n",
       "\t -0.28849084\\\\\n",
       "\t -0.22769492\\\\\n",
       "\t -0.26296065\\\\\n",
       "\t -0.17943447\\\\\n",
       "\t -0.19375967\\\\\n",
       "\t -0.27501066\\\\\n",
       "\t -0.18203010\\\\\n",
       "\t -0.28517467\\\\\n",
       "\t -0.19227425\\\\\n",
       "\t -0.22311364\\\\\n",
       "\t -0.28464972\\\\\n",
       "\t -0.26919202\\\\\n",
       "\t -0.29661845\\\\\n",
       "\t -0.26219332\\\\\n",
       "\t -0.24824359\\\\\n",
       "\t -0.26735432\\\\\n",
       "\t -0.18276551\\\\\n",
       "\t -0.25791016\\\\\n",
       "\t -0.19486138\\\\\n",
       "\\end{tabular}\n"
      ],
      "text/markdown": [
       "\n",
       "| predictions |\n",
       "|---|\n",
       "| -0.08360401 |\n",
       "| -0.25130451 |\n",
       "| -0.13486055 |\n",
       "| -0.24400265 |\n",
       "| -0.24449460 |\n",
       "| -0.24677439 |\n",
       "| -0.23327339 |\n",
       "| -0.23206622 |\n",
       "| -0.24834456 |\n",
       "| -0.23825729 |\n",
       "| -0.23058733 |\n",
       "| -0.23228463 |\n",
       "| -0.09325239 |\n",
       "| -0.24845202 |\n",
       "| -0.21660182 |\n",
       "| -0.24996433 |\n",
       "| -0.24936916 |\n",
       "| -0.21857243 |\n",
       "| -0.15756823 |\n",
       "| -0.24981461 |\n",
       "| -0.14703700 |\n",
       "| -0.25112595 |\n",
       "| -0.25244115 |\n",
       "| -0.24790546 |\n",
       "| -0.11939285 |\n",
       "| -0.20117016 |\n",
       "| -0.25184212 |\n",
       "| -0.23668217 |\n",
       "| -0.20950392 |\n",
       "| -0.23262874 |\n",
       "| ... |\n",
       "| -0.24302022 |\n",
       "| -0.27907612 |\n",
       "| -0.17763400 |\n",
       "| -0.24066376 |\n",
       "| -0.27434085 |\n",
       "| -0.08361184 |\n",
       "| -0.16325478 |\n",
       "| -0.12084935 |\n",
       "| -0.13754432 |\n",
       "| -0.27653750 |\n",
       "| -0.27316671 |\n",
       "| -0.28849084 |\n",
       "| -0.22769492 |\n",
       "| -0.26296065 |\n",
       "| -0.17943447 |\n",
       "| -0.19375967 |\n",
       "| -0.27501066 |\n",
       "| -0.18203010 |\n",
       "| -0.28517467 |\n",
       "| -0.19227425 |\n",
       "| -0.22311364 |\n",
       "| -0.28464972 |\n",
       "| -0.26919202 |\n",
       "| -0.29661845 |\n",
       "| -0.26219332 |\n",
       "| -0.24824359 |\n",
       "| -0.26735432 |\n",
       "| -0.18276551 |\n",
       "| -0.25791016 |\n",
       "| -0.19486138 |\n",
       "\n"
      ],
      "text/plain": [
       "      predictions\n",
       "1     -0.08360401\n",
       "2     -0.25130451\n",
       "3     -0.13486055\n",
       "4     -0.24400265\n",
       "5     -0.24449460\n",
       "6     -0.24677439\n",
       "7     -0.23327339\n",
       "8     -0.23206622\n",
       "9     -0.24834456\n",
       "10    -0.23825729\n",
       "11    -0.23058733\n",
       "12    -0.23228463\n",
       "13    -0.09325239\n",
       "14    -0.24845202\n",
       "15    -0.21660182\n",
       "16    -0.24996433\n",
       "17    -0.24936916\n",
       "18    -0.21857243\n",
       "19    -0.15756823\n",
       "20    -0.24981461\n",
       "21    -0.14703700\n",
       "22    -0.25112595\n",
       "23    -0.25244115\n",
       "24    -0.24790546\n",
       "25    -0.11939285\n",
       "26    -0.20117016\n",
       "27    -0.25184212\n",
       "28    -0.23668217\n",
       "29    -0.20950392\n",
       "30    -0.23262874\n",
       "...   ...        \n",
       "9971  -0.24302022\n",
       "9972  -0.27907612\n",
       "9973  -0.17763400\n",
       "9974  -0.24066376\n",
       "9975  -0.27434085\n",
       "9976  -0.08361184\n",
       "9977  -0.16325478\n",
       "9978  -0.12084935\n",
       "9979  -0.13754432\n",
       "9980  -0.27653750\n",
       "9981  -0.27316671\n",
       "9982  -0.28849084\n",
       "9983  -0.22769492\n",
       "9984  -0.26296065\n",
       "9985  -0.17943447\n",
       "9986  -0.19375967\n",
       "9987  -0.27501066\n",
       "9988  -0.18203010\n",
       "9989  -0.28517467\n",
       "9990  -0.19227425\n",
       "9991  -0.22311364\n",
       "9992  -0.28464972\n",
       "9993  -0.26919202\n",
       "9994  -0.29661845\n",
       "9995  -0.26219332\n",
       "9996  -0.24824359\n",
       "9997  -0.26735432\n",
       "9998  -0.18276551\n",
       "9999  -0.25791016\n",
       "10000 -0.19486138"
      ]
     },
     "metadata": {},
     "output_type": "display_data"
    }
   ],
   "source": [
    "# covariates\n",
    "X <- data.matrix(data %>% filter(, dataset == 1) %>% select(, -c(dataset, price, Y)))\n",
    "# outcome\n",
    "Y <- data.matrix(data %>% filter(, dataset == 1) %>% select(, Y))\n",
    "# treatment \n",
    "W <- data.matrix(data %>% filter(, dataset == 1) %>% select(, price))\n",
    "\n",
    "# train a honest single causal tree using all features\n",
    "tau.forest <- causal_forest(X, Y, W, num.trees = 1, mtry = ncol(X))\n",
    "\n",
    "# prediction are asymptotically normal\n",
    "# Estimate treatment effects for the test sample.\n",
    "tau.hat <- predict(tau.forest, X)\n",
    "head(tau.hat)"
   ]
  },
  {
   "cell_type": "code",
   "execution_count": 17,
   "metadata": {
    "tags": []
   },
   "outputs": [
    {
     "data": {
      "text/html": [
       "<table>\n",
       "<thead><tr><th scope=col>predictions</th></tr></thead>\n",
       "<tbody>\n",
       "\t<tr><td>0.01542101</td></tr>\n",
       "\t<tr><td>0.01523460</td></tr>\n",
       "\t<tr><td>0.01523460</td></tr>\n",
       "\t<tr><td>0.01572110</td></tr>\n",
       "\t<tr><td>0.01416552</td></tr>\n",
       "\t<tr><td>0.01494587</td></tr>\n",
       "\t<tr><td>0.01831757</td></tr>\n",
       "\t<tr><td>0.01949910</td></tr>\n",
       "\t<tr><td>0.02033178</td></tr>\n",
       "\t<tr><td>0.02267936</td></tr>\n",
       "\t<tr><td>0.02194967</td></tr>\n",
       "\t<tr><td>0.02636145</td></tr>\n",
       "\t<tr><td>0.03414982</td></tr>\n",
       "\t<tr><td>0.04218548</td></tr>\n",
       "\t<tr><td>0.04704347</td></tr>\n",
       "\t<tr><td>0.05195956</td></tr>\n",
       "\t<tr><td>0.05156796</td></tr>\n",
       "\t<tr><td>0.05152569</td></tr>\n",
       "\t<tr><td>0.04994680</td></tr>\n",
       "\t<tr><td>0.04974290</td></tr>\n",
       "\t<tr><td>0.04759663</td></tr>\n",
       "\t<tr><td>0.04557762</td></tr>\n",
       "\t<tr><td>0.04517721</td></tr>\n",
       "\t<tr><td>0.04130709</td></tr>\n",
       "\t<tr><td>0.04108501</td></tr>\n",
       "\t<tr><td>0.03215601</td></tr>\n",
       "\t<tr><td>0.02626107</td></tr>\n",
       "\t<tr><td>0.02114625</td></tr>\n",
       "\t<tr><td>0.01853777</td></tr>\n",
       "\t<tr><td>0.01402562</td></tr>\n",
       "\t<tr><td>...</td></tr>\n",
       "\t<tr><td>0.6600814</td></tr>\n",
       "\t<tr><td>0.7962852</td></tr>\n",
       "\t<tr><td>0.9672774</td></tr>\n",
       "\t<tr><td>1.0151324</td></tr>\n",
       "\t<tr><td>1.0536105</td></tr>\n",
       "\t<tr><td>1.1353507</td></tr>\n",
       "\t<tr><td>1.2509426</td></tr>\n",
       "\t<tr><td>1.2686875</td></tr>\n",
       "\t<tr><td>1.2834537</td></tr>\n",
       "\t<tr><td>1.3828236</td></tr>\n",
       "\t<tr><td>1.4486270</td></tr>\n",
       "\t<tr><td>1.4999299</td></tr>\n",
       "\t<tr><td>1.5307093</td></tr>\n",
       "\t<tr><td>1.6154486</td></tr>\n",
       "\t<tr><td>1.6365603</td></tr>\n",
       "\t<tr><td>1.6560507</td></tr>\n",
       "\t<tr><td>1.6627892</td></tr>\n",
       "\t<tr><td>1.6967266</td></tr>\n",
       "\t<tr><td>1.7227451</td></tr>\n",
       "\t<tr><td>1.7350249</td></tr>\n",
       "\t<tr><td>1.7441386</td></tr>\n",
       "\t<tr><td>1.7517643</td></tr>\n",
       "\t<tr><td>1.7564698</td></tr>\n",
       "\t<tr><td>1.7648768</td></tr>\n",
       "\t<tr><td>1.7828179</td></tr>\n",
       "\t<tr><td>1.7898177</td></tr>\n",
       "\t<tr><td>1.7916333</td></tr>\n",
       "\t<tr><td>1.8008987</td></tr>\n",
       "\t<tr><td>1.8008866</td></tr>\n",
       "\t<tr><td>1.8010615</td></tr>\n",
       "</tbody>\n",
       "</table>\n"
      ],
      "text/latex": [
       "\\begin{tabular}{r|l}\n",
       " predictions\\\\\n",
       "\\hline\n",
       "\t 0.01542101\\\\\n",
       "\t 0.01523460\\\\\n",
       "\t 0.01523460\\\\\n",
       "\t 0.01572110\\\\\n",
       "\t 0.01416552\\\\\n",
       "\t 0.01494587\\\\\n",
       "\t 0.01831757\\\\\n",
       "\t 0.01949910\\\\\n",
       "\t 0.02033178\\\\\n",
       "\t 0.02267936\\\\\n",
       "\t 0.02194967\\\\\n",
       "\t 0.02636145\\\\\n",
       "\t 0.03414982\\\\\n",
       "\t 0.04218548\\\\\n",
       "\t 0.04704347\\\\\n",
       "\t 0.05195956\\\\\n",
       "\t 0.05156796\\\\\n",
       "\t 0.05152569\\\\\n",
       "\t 0.04994680\\\\\n",
       "\t 0.04974290\\\\\n",
       "\t 0.04759663\\\\\n",
       "\t 0.04557762\\\\\n",
       "\t 0.04517721\\\\\n",
       "\t 0.04130709\\\\\n",
       "\t 0.04108501\\\\\n",
       "\t 0.03215601\\\\\n",
       "\t 0.02626107\\\\\n",
       "\t 0.02114625\\\\\n",
       "\t 0.01853777\\\\\n",
       "\t 0.01402562\\\\\n",
       "\t ...\\\\\n",
       "\t 0.6600814\\\\\n",
       "\t 0.7962852\\\\\n",
       "\t 0.9672774\\\\\n",
       "\t 1.0151324\\\\\n",
       "\t 1.0536105\\\\\n",
       "\t 1.1353507\\\\\n",
       "\t 1.2509426\\\\\n",
       "\t 1.2686875\\\\\n",
       "\t 1.2834537\\\\\n",
       "\t 1.3828236\\\\\n",
       "\t 1.4486270\\\\\n",
       "\t 1.4999299\\\\\n",
       "\t 1.5307093\\\\\n",
       "\t 1.6154486\\\\\n",
       "\t 1.6365603\\\\\n",
       "\t 1.6560507\\\\\n",
       "\t 1.6627892\\\\\n",
       "\t 1.6967266\\\\\n",
       "\t 1.7227451\\\\\n",
       "\t 1.7350249\\\\\n",
       "\t 1.7441386\\\\\n",
       "\t 1.7517643\\\\\n",
       "\t 1.7564698\\\\\n",
       "\t 1.7648768\\\\\n",
       "\t 1.7828179\\\\\n",
       "\t 1.7898177\\\\\n",
       "\t 1.7916333\\\\\n",
       "\t 1.8008987\\\\\n",
       "\t 1.8008866\\\\\n",
       "\t 1.8010615\\\\\n",
       "\\end{tabular}\n"
      ],
      "text/markdown": [
       "\n",
       "| predictions |\n",
       "|---|\n",
       "| 0.01542101 |\n",
       "| 0.01523460 |\n",
       "| 0.01523460 |\n",
       "| 0.01572110 |\n",
       "| 0.01416552 |\n",
       "| 0.01494587 |\n",
       "| 0.01831757 |\n",
       "| 0.01949910 |\n",
       "| 0.02033178 |\n",
       "| 0.02267936 |\n",
       "| 0.02194967 |\n",
       "| 0.02636145 |\n",
       "| 0.03414982 |\n",
       "| 0.04218548 |\n",
       "| 0.04704347 |\n",
       "| 0.05195956 |\n",
       "| 0.05156796 |\n",
       "| 0.05152569 |\n",
       "| 0.04994680 |\n",
       "| 0.04974290 |\n",
       "| 0.04759663 |\n",
       "| 0.04557762 |\n",
       "| 0.04517721 |\n",
       "| 0.04130709 |\n",
       "| 0.04108501 |\n",
       "| 0.03215601 |\n",
       "| 0.02626107 |\n",
       "| 0.02114625 |\n",
       "| 0.01853777 |\n",
       "| 0.01402562 |\n",
       "| ... |\n",
       "| 0.6600814 |\n",
       "| 0.7962852 |\n",
       "| 0.9672774 |\n",
       "| 1.0151324 |\n",
       "| 1.0536105 |\n",
       "| 1.1353507 |\n",
       "| 1.2509426 |\n",
       "| 1.2686875 |\n",
       "| 1.2834537 |\n",
       "| 1.3828236 |\n",
       "| 1.4486270 |\n",
       "| 1.4999299 |\n",
       "| 1.5307093 |\n",
       "| 1.6154486 |\n",
       "| 1.6365603 |\n",
       "| 1.6560507 |\n",
       "| 1.6627892 |\n",
       "| 1.6967266 |\n",
       "| 1.7227451 |\n",
       "| 1.7350249 |\n",
       "| 1.7441386 |\n",
       "| 1.7517643 |\n",
       "| 1.7564698 |\n",
       "| 1.7648768 |\n",
       "| 1.7828179 |\n",
       "| 1.7898177 |\n",
       "| 1.7916333 |\n",
       "| 1.8008987 |\n",
       "| 1.8008866 |\n",
       "| 1.8010615 |\n",
       "\n"
      ],
      "text/plain": [
       "    predictions\n",
       "1   0.01542101 \n",
       "2   0.01523460 \n",
       "3   0.01523460 \n",
       "4   0.01572110 \n",
       "5   0.01416552 \n",
       "6   0.01494587 \n",
       "7   0.01831757 \n",
       "8   0.01949910 \n",
       "9   0.02033178 \n",
       "10  0.02267936 \n",
       "11  0.02194967 \n",
       "12  0.02636145 \n",
       "13  0.03414982 \n",
       "14  0.04218548 \n",
       "15  0.04704347 \n",
       "16  0.05195956 \n",
       "17  0.05156796 \n",
       "18  0.05152569 \n",
       "19  0.04994680 \n",
       "20  0.04974290 \n",
       "21  0.04759663 \n",
       "22  0.04557762 \n",
       "23  0.04517721 \n",
       "24  0.04130709 \n",
       "25  0.04108501 \n",
       "26  0.03215601 \n",
       "27  0.02626107 \n",
       "28  0.02114625 \n",
       "29  0.01853777 \n",
       "30  0.01402562 \n",
       "... ...        \n",
       "72  0.6600814  \n",
       "73  0.7962852  \n",
       "74  0.9672774  \n",
       "75  1.0151324  \n",
       "76  1.0536105  \n",
       "77  1.1353507  \n",
       "78  1.2509426  \n",
       "79  1.2686875  \n",
       "80  1.2834537  \n",
       "81  1.3828236  \n",
       "82  1.4486270  \n",
       "83  1.4999299  \n",
       "84  1.5307093  \n",
       "85  1.6154486  \n",
       "86  1.6365603  \n",
       "87  1.6560507  \n",
       "88  1.6627892  \n",
       "89  1.6967266  \n",
       "90  1.7227451  \n",
       "91  1.7350249  \n",
       "92  1.7441386  \n",
       "93  1.7517643  \n",
       "94  1.7564698  \n",
       "95  1.7648768  \n",
       "96  1.7828179  \n",
       "97  1.7898177  \n",
       "98  1.7916333  \n",
       "99  1.8008987  \n",
       "100 1.8008866  \n",
       "101 1.8010615  "
      ]
     },
     "metadata": {},
     "output_type": "display_data"
    },
    {
     "data": {
      "image/png": "[encoded data removed]",
      "text/plain": [
       "Plot with title \"Histogram of tau.hat.oob$predictions\""
      ]
     },
     "metadata": {},
     "output_type": "display_data"
    }
   ],
   "source": [
    "library(grf)\n",
    "\n",
    "# Generate data.\n",
    "n <- 2000 #nrow\n",
    "p <- 10   #ncol\n",
    "X <- matrix(rnorm(n * p), n, p)\n",
    "X.test <- matrix(0, 101, p) # matrix 101 x 10 all 0\n",
    "X.test[, 1] <- seq(-2, 2, length.out = 101)\n",
    "\n",
    "# Train a causal forest.\n",
    "W <- rbinom(n, 1, 0.4 + 0.2 * (X[, 1] > 0))\n",
    "Y <- pmax(X[, 1], 0) * W + X[, 2] + pmin(X[, 3], 0) + rnorm(n)\n",
    "tau.forest <- causal_forest(X, Y, W)\n",
    "\n",
    "# Estimate treatment effects for the training data using out-of-bag prediction.\n",
    "tau.hat.oob <- predict(tau.forest)\n",
    "hist(tau.hat.oob$predictions)\n",
    "\n",
    "# Estimate treatment effects for the test sample.\n",
    "tau.hat <- predict(tau.forest, X.test)\n",
    "tau.hat"
   ]
  },
  {
   "cell_type": "code",
   "execution_count": 23,
   "metadata": {},
   "outputs": [
    {
     "data": {
      "image/png": "[encoded data removed]",
      "text/plain": [
       "Plot with title \"Histogram of tau.hat.oob$predictions\""
      ]
     },
     "metadata": {},
     "output_type": "display_data"
    },
    {
     "data": {
      "text/html": [
       "<dl class=dl-horizontal>\n",
       "\t<dt>estimate</dt>\n",
       "\t\t<dd>0.387034597707116</dd>\n",
       "\t<dt>std.err</dt>\n",
       "\t\t<dd>0.0481261487852652</dd>\n",
       "</dl>\n"
      ],
      "text/latex": [
       "\\begin{description*}\n",
       "\\item[estimate] 0.387034597707116\n",
       "\\item[std.err] 0.0481261487852652\n",
       "\\end{description*}\n"
      ],
      "text/markdown": [
       "estimate\n",
       ":   0.387034597707116std.err\n",
       ":   0.0481261487852652\n",
       "\n"
      ],
      "text/plain": [
       "  estimate    std.err \n",
       "0.38703460 0.04812615 "
      ]
     },
     "metadata": {},
     "output_type": "display_data"
    },
    {
     "data": {
      "text/html": [
       "<dl class=dl-horizontal>\n",
       "\t<dt>estimate</dt>\n",
       "\t\t<dd>0.451310742471447</dd>\n",
       "\t<dt>std.err</dt>\n",
       "\t\t<dd>0.0494079840647824</dd>\n",
       "</dl>\n"
      ],
      "text/latex": [
       "\\begin{description*}\n",
       "\\item[estimate] 0.451310742471447\n",
       "\\item[std.err] 0.0494079840647824\n",
       "\\end{description*}\n"
      ],
      "text/markdown": [
       "estimate\n",
       ":   0.451310742471447std.err\n",
       ":   0.0494079840647824\n",
       "\n"
      ],
      "text/plain": [
       "  estimate    std.err \n",
       "0.45131074 0.04940798 "
      ]
     },
     "metadata": {},
     "output_type": "display_data"
    },
    {
     "data": {
      "image/png": "[encoded data removed]",
      "text/plain": [
       "plot without title"
      ]
     },
     "metadata": {},
     "output_type": "display_data"
    },
    {
     "data": {
      "text/plain": [
       "\n",
       "Best linear fit using forest predictions (on held-out data)\n",
       "as well as the mean forest prediction as regressors, along\n",
       "with one-sided heteroskedasticity-robust (HC3) SEs:\n",
       "\n",
       "                               Estimate Std. Error t value    Pr(>t)    \n",
       "mean.forest.prediction         1.006388   0.074547 13.5001 < 2.2e-16 ***\n",
       "differential.forest.prediction 0.763219   0.214925  3.5511  0.000194 ***\n",
       "---\n",
       "Signif. codes:  0 '***' 0.001 '**' 0.01 '*' 0.05 '.' 0.1 ' ' 1\n"
      ]
     },
     "metadata": {},
     "output_type": "display_data"
    },
    {
     "data": {
      "image/png": "[encoded data removed]",
      "text/plain": [
       "plot without title"
      ]
     },
     "metadata": {},
     "output_type": "display_data"
    }
   ],
   "source": [
    "library(grf)\n",
    "\n",
    "# Generate data.\n",
    "n <- 2000\n",
    "p <- 10\n",
    "X <- matrix(rnorm(n * p), n, p)\n",
    "X.test <- matrix(0, 101, p)\n",
    "X.test[, 1] <- seq(-2, 2, length.out = 101)\n",
    "\n",
    "# Train a causal forest.\n",
    "W <- rbinom(n, 1, 0.4 + 0.2 * (X[, 1] > 0))\n",
    "Y <- pmax(X[, 1], 0) * W + X[, 2] + pmin(X[, 3], 0) + rnorm(n)\n",
    "tau.forest <- causal_forest(X, Y, W)\n",
    "\n",
    "# Estimate treatment effects for the training data using out-of-bag prediction.\n",
    "tau.hat.oob <- predict(tau.forest)\n",
    "hist(tau.hat.oob$predictions)\n",
    "\n",
    "# Estimate treatment effects for the test sample.\n",
    "tau.hat <- predict(tau.forest, X.test)\n",
    "plot(X.test[, 1], tau.hat$predictions, ylim = range(tau.hat$predictions, 0, 2), xlab = \"x\", ylab = \"tau\", type = \"l\")\n",
    "lines(X.test[, 1], pmax(0, X.test[, 1]), col = 2, lty = 2)\n",
    "\n",
    "# Estimate the conditional average treatment effect on the full sample (CATE).\n",
    "average_treatment_effect(tau.forest, target.sample = \"all\")\n",
    "\n",
    "# Estimate the conditional average treatment effect on the treated sample (CATT).\n",
    "average_treatment_effect(tau.forest, target.sample = \"treated\")\n",
    "\n",
    "# Add confidence intervals for heterogeneous treatment effects; growing more trees is now recommended.\n",
    "tau.forest <- causal_forest(X, Y, W, num.trees = 4000)\n",
    "tau.hat <- predict(tau.forest, X.test, estimate.variance = TRUE)\n",
    "sigma.hat <- sqrt(tau.hat$variance.estimates)\n",
    "plot(X.test[, 1], tau.hat$predictions, ylim = range(tau.hat$predictions + 1.96 * sigma.hat, tau.hat$predictions - 1.96 * sigma.hat, 0, 2), xlab = \"x\", ylab = \"tau\", type = \"l\")\n",
    "lines(X.test[, 1], tau.hat$predictions + 1.96 * sigma.hat, col = 1, lty = 2)\n",
    "lines(X.test[, 1], tau.hat$predictions - 1.96 * sigma.hat, col = 1, lty = 2)\n",
    "lines(X.test[, 1], pmax(0, X.test[, 1]), col = 2, lty = 1)\n",
    "\n",
    "# In some examples, pre-fitting models for Y and W separately may\n",
    "# be helpful (e.g., if different models use different covariates).\n",
    "# In some applications, one may even want to get Y.hat and W.hat\n",
    "# using a completely different method (e.g., boosting).\n",
    "\n",
    "# Generate new data.\n",
    "n <- 4000\n",
    "p <- 20\n",
    "X <- matrix(rnorm(n * p), n, p)\n",
    "TAU <- 1 / (1 + exp(-X[, 3]))\n",
    "W <- rbinom(n, 1, 1 / (1 + exp(-X[, 1] - X[, 2])))\n",
    "Y <- pmax(X[, 2] + X[, 3], 0) + rowMeans(X[, 4:6]) / 2 + W * TAU + rnorm(n)\n",
    "\n",
    "forest.W <- regression_forest(X, W, tune.parameters = \"all\")\n",
    "W.hat <- predict(forest.W)$predictions\n",
    "\n",
    "forest.Y <- regression_forest(X, Y, tune.parameters = \"all\")\n",
    "Y.hat <- predict(forest.Y)$predictions\n",
    "\n",
    "forest.Y.varimp <- variable_importance(forest.Y)\n",
    "\n",
    "# Note: Forests may have a hard time when trained on very few variables\n",
    "# (e.g., ncol(X) = 1, 2, or 3). We recommend not being too aggressive\n",
    "# in selection.\n",
    "selected.vars <- which(forest.Y.varimp / mean(forest.Y.varimp) > 0.2)\n",
    "\n",
    "tau.forest <- causal_forest(X[, selected.vars], Y, W,\n",
    "                            W.hat = W.hat, Y.hat = Y.hat,\n",
    "                            tune.parameters = \"all\")\n",
    "\n",
    "# Check whether causal forest predictions are well calibrated.\n",
    "test_calibration(tau.forest)"
   ]
  },
  {
   "cell_type": "code",
   "execution_count": null,
   "metadata": {},
   "outputs": [],
   "source": []
  }
 ],
 "metadata": {
  "kernelspec": {
   "display_name": "R",
   "language": "R",
   "name": "ir"
  },
  "language_info": {
   "codemirror_mode": "r",
   "file_extension": ".r",
   "mimetype": "text/x-r-source",
   "name": "R",
   "pygments_lexer": "r",
   "version": "3.6.1"
  }
 },
 "nbformat": 4,
 "nbformat_minor": 4
}
